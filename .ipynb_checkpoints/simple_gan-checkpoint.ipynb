{
 "cells": [
  {
   "cell_type": "code",
   "execution_count": 1,
   "metadata": {
    "collapsed": true
   },
   "outputs": [],
   "source": [
    "import numpy as np\n",
    "import tensorflow as tf\n",
    "from tensorflow.examples.tutorials.mnist import input_data\n",
    "import matplotlib.pyplot as plt\n",
    "%matplotlib inline"
   ]
  },
  {
   "cell_type": "code",
   "execution_count": 18,
   "metadata": {
    "collapsed": true
   },
   "outputs": [],
   "source": [
    "z_size = 100\n",
    "batch_size = 100\n",
    "real_inputs = 784\n",
    "g_hidden_units = 128\n",
    "d_hidden_units = 128\n",
    "smooth = 0.1\n",
    "learning_rate = 0.002\n",
    "epochs = 200"
   ]
  },
  {
   "cell_type": "code",
   "execution_count": 4,
   "metadata": {
    "collapsed": true
   },
   "outputs": [],
   "source": [
    "def generator(z, out_dim, number_of_hidden_units, reuse=False, alpha=0.01):\n",
    "    \n",
    "    with tf.variable_scope('gen', reuse=reuse):\n",
    "        \n",
    "        gen_1 = tf.layers.dense(z, number_of_hidden_units, activation=None)\n",
    "        \n",
    "        gen_1 = tf.maximum(alpha*gen_1, gen_1)\n",
    "        \n",
    "        logits = tf.layers.dense(gen_1, out_dim, activation=None)\n",
    "        output = tf.tanh(logits)\n",
    "        return output"
   ]
  },
  {
   "cell_type": "code",
   "execution_count": 5,
   "metadata": {
    "collapsed": true
   },
   "outputs": [],
   "source": [
    "def discriminator(x, number_of_hidden_units, reuse=False, alpha=0.01):\n",
    "    \n",
    "    with tf.variable_scope('dis', reuse=reuse):\n",
    "        \n",
    "        dis_1 = tf.layers.dense(x, number_of_hidden_units, activation=None)\n",
    "        \n",
    "        dis_1 = tf.maximum(alpha*dis_1, dis_1)\n",
    "        \n",
    "        logits = tf.layers.dense(dis_1, 1, activation=None)\n",
    "        output = tf.tanh(logits)\n",
    "        return logits, output"
   ]
  },
  {
   "cell_type": "code",
   "execution_count": 7,
   "metadata": {
    "collapsed": false
   },
   "outputs": [],
   "source": [
    "tf.reset_default_graph()\n",
    "\n",
    "latent_input = tf.placeholder(tf.float32, [None, z_size])\n",
    "real_inp = tf.placeholder(tf.float32, [None, real_inputs])\n",
    "\n",
    "gen_output = generator(latent_input, real_inputs, g_hidden_units)\n",
    "\n",
    "dis_real_logits, dis_real_output = discriminator(real_inp, d_hidden_units)\n",
    "dis_fake_logits, dis_fake_output = discriminator(gen_output, d_hidden_units, reuse=True)"
   ]
  },
  {
   "cell_type": "code",
   "execution_count": 12,
   "metadata": {
    "collapsed": false
   },
   "outputs": [],
   "source": [
    "dis_loss_real = tf.reduce_mean(tf.nn.sigmoid_cross_entropy_with_logits(logits=dis_real_logits, \n",
    "                                                                       labels=tf.ones_like(dis_real_logits) * (1 - smooth)))\n",
    "\n",
    "dis_loss_fake = tf.reduce_mean(tf.nn.sigmoid_cross_entropy_with_logits(logits=dis_fake_logits, \n",
    "                                                                       labels=tf.zeros_like(dis_fake_logits)))\n",
    "                               \n",
    "dis_loss = dis_loss_real + dis_loss_fake\n",
    "                        \n",
    "                               \n",
    "                               \n",
    "gen_loss = tf.reduce_mean(tf.nn.sigmoid_cross_entropy_with_logits(logits=gen_output, \n",
    "                                                                       labels=tf.ones_like(gen_output)))"
   ]
  },
  {
   "cell_type": "code",
   "execution_count": 15,
   "metadata": {
    "collapsed": false
   },
   "outputs": [],
   "source": [
    "t_vars = tf.trainable_variables()\n",
    "\n",
    "g_vars = [var for var in t_vars if var.name.startswith('gen')]\n",
    "d_vars = [var for var in t_vars if var.name.startswith('dis')]\n",
    "\n",
    "d_optimizer = tf.train.AdamOptimizer(learning_rate).minimize(dis_loss, var_list = d_vars)\n",
    "g_optimizer = tf.train.AdamOptimizer(learning_rate).minimize(gen_loss, var_list = g_vars)"
   ]
  },
  {
   "cell_type": "code",
   "execution_count": 16,
   "metadata": {
    "collapsed": true
   },
   "outputs": [],
   "source": [
    "session = tf.Session()"
   ]
  },
  {
   "cell_type": "code",
   "execution_count": 17,
   "metadata": {
    "collapsed": true
   },
   "outputs": [],
   "source": [
    "session.run(tf.global_variables_initializer())"
   ]
  },
  {
   "cell_type": "code",
   "execution_count": 19,
   "metadata": {
    "collapsed": false
   },
   "outputs": [
    {
     "name": "stdout",
     "output_type": "stream",
     "text": [
      "Successfully downloaded train-images-idx3-ubyte.gz 9912422 bytes.\n",
      "Extracting MNIST_data\\train-images-idx3-ubyte.gz\n",
      "Successfully downloaded train-labels-idx1-ubyte.gz 28881 bytes.\n",
      "Extracting MNIST_data\\train-labels-idx1-ubyte.gz\n",
      "Successfully downloaded t10k-images-idx3-ubyte.gz 1648877 bytes.\n",
      "Extracting MNIST_data\\t10k-images-idx3-ubyte.gz\n",
      "Successfully downloaded t10k-labels-idx1-ubyte.gz 4542 bytes.\n",
      "Extracting MNIST_data\\t10k-labels-idx1-ubyte.gz\n"
     ]
    }
   ],
   "source": [
    "mnist_data = input_data.read_data_sets('MNIST_data', one_hot=True)"
   ]
  },
  {
   "cell_type": "code",
   "execution_count": 21,
   "metadata": {
    "collapsed": false
   },
   "outputs": [],
   "source": [
    "for i in range(epochs):\n",
    "    \n",
    "    for ii in range(mnist_data.train.num_examples// batch_size):\n",
    "        \n",
    "        batch = mnist_data.train.next_batch(batch_size)\n",
    "        \n",
    "        batch_images = batch[0].reshape((batch_size, 784))\n",
    "        batch_images = batch_images*2 - 1\n",
    "        \n",
    "        batch_latent = np.random.uniform(-1, 1, size=(batch_size, z_size))\n",
    "        \n",
    "        _ = session.run(d_optimizer, feed_dict={latent_input:batch_latent, real_inp:batch_images})\n",
    "        _ = session.run(g_optimizer, feed_dict={latent_input:batch_latent, real_inp:batch_images})\n",
    "        \n",
    "    train_loss_dis = session.run(dis_loss, feed_dict={latent_input:batch_latent, real_inp:batch_images})\n",
    "    train_loss_gen = session.run(gen_loss, feed_dict={latent_input:batch_latent, real_inp:batch_images})\n",
    "    \n",
    "    print(\"Epoch {}/{}...\".format(e+1, epochs),\n",
    "              \"Discriminator Loss: {:.4f}...\".format(train_loss_d),\n",
    "              \"Generator Loss: {:.4f}\".format(train_loss_g))    \n",
    "        # Save losses to view after training\n",
    "        losses.append((train_loss_d, train_loss_g))"
   ]
  },
  {
   "cell_type": "code",
   "execution_count": null,
   "metadata": {
    "collapsed": true
   },
   "outputs": [],
   "source": []
  }
 ],
 "metadata": {
  "kernelspec": {
   "display_name": "Python 3",
   "language": "python",
   "name": "python3"
  },
  "language_info": {
   "codemirror_mode": {
    "name": "ipython",
    "version": 3
   },
   "file_extension": ".py",
   "mimetype": "text/x-python",
   "name": "python",
   "nbconvert_exporter": "python",
   "pygments_lexer": "ipython3",
   "version": "3.5.3"
  }
 },
 "nbformat": 4,
 "nbformat_minor": 0
}
